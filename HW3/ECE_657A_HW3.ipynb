{
 "cells": [
  {
   "cell_type": "markdown",
   "metadata": {},
   "source": [
    "### Problem 1 :\n",
    " \n",
    " The crime dataset is read from the communities.csv file and stored in a matrix named m."
   ]
  },
  {
   "cell_type": "code",
   "execution_count": 3,
   "metadata": {},
   "outputs": [],
   "source": [
    "import pandas as pd\n",
    "import numpy as np\n",
    "from numpy import linalg\n",
    "\n",
    "# Read  csv and replace all missing value to Nan\n",
    "df = pd.read_csv('communities.csv', na_values = '?', header=None)"
   ]
  },
  {
   "cell_type": "code",
   "execution_count": 4,
   "metadata": {},
   "outputs": [
    {
     "name": "stdout",
     "output_type": "stream",
     "text": [
      "[[8 nan nan ... 0.32 0.14 0.2]\n",
      " [53 nan nan ... 0.0 nan 0.67]\n",
      " [24 nan nan ... 0.0 nan 0.43]\n",
      " ...\n",
      " [9 9.0 80070.0 ... 0.91 0.28 0.23]\n",
      " [25 17.0 72600.0 ... 0.22 0.18 0.19]\n",
      " [6 nan nan ... 1.0 0.13 0.48]]\n"
     ]
    }
   ],
   "source": [
    "m = np.matrix(df)\n",
    "print(m)"
   ]
  },
  {
   "cell_type": "markdown",
   "metadata": {},
   "source": [
    "### Problem 2 :\n",
    "The missing values are replaced with NaN while reading the csv file. Later, the NaN are replaced with the mean value of its column and the categorical values are encoded using the technique Label Encoding. Finally, covariance indices  the N-dimensional samples into a square matrix and the Eigenvectors and Eigenvalues of that matrix is reported."
   ]
  },
  {
   "cell_type": "code",
   "execution_count": 5,
   "metadata": {},
   "outputs": [],
   "source": [
    "# missing values filled with mean value\n",
    "df.fillna(df.mean(), inplace=True)"
   ]
  },
  {
   "cell_type": "code",
   "execution_count": 6,
   "metadata": {},
   "outputs": [],
   "source": [
    "# Label Encoding string data type\n",
    "df[3] = df[3].astype('category')\n",
    "df[3] = df[3].cat.codes"
   ]
  },
  {
   "cell_type": "code",
   "execution_count": 7,
   "metadata": {},
   "outputs": [],
   "source": [
    "# Subracting Mean\n",
    "A = df-df.mean()"
   ]
  },
  {
   "cell_type": "code",
   "execution_count": 8,
   "metadata": {
    "scrolled": true
   },
   "outputs": [
    {
     "name": "stdout",
     "output_type": "stream",
     "text": [
      "Eigenvalues : \n",
      " [ 3.73155472e+10+0.0000000e+00j  2.61158528e+06+0.0000000e+00j\n",
      "  1.02419622e+05+0.0000000e+00j ...  1.54757320e-09+0.0000000e+00j\n",
      " -5.83077381e-09+3.6006184e-09j -5.83077381e-09-3.6006184e-09j]\n",
      "\n",
      " Eigenvectors : \n",
      " [[ 0.0211339 +0.00000000e+00j  0.0055669 +0.00000000e+00j\n",
      "   0.00051146+0.00000000e+00j ... -0.00069497+0.00000000e+00j\n",
      "   0.01252672+1.24185119e-02j  0.01252672-1.24185119e-02j]\n",
      " [ 0.02113815+0.00000000e+00j -0.03931267+0.00000000e+00j\n",
      "   0.00286981+0.00000000e+00j ...  0.00073255+0.00000000e+00j\n",
      "   0.00089904+4.74319098e-05j  0.00089904-4.74319098e-05j]\n",
      " [ 0.02112955+0.00000000e+00j  0.04948826+0.00000000e+00j\n",
      "  -0.001098  +0.00000000e+00j ... -0.0014744 +0.00000000e+00j\n",
      "   0.00156284-3.85754627e-03j  0.00156284+3.85754627e-03j]\n",
      " ...\n",
      " [ 0.03663883+0.00000000e+00j -0.00757065+0.00000000e+00j\n",
      "  -0.02405855+0.00000000e+00j ... -0.00202621+0.00000000e+00j\n",
      "  -0.00083033-1.02457727e-02j -0.00083033+1.02457727e-02j]\n",
      " [ 0.03322135+0.00000000e+00j -0.01489918+0.00000000e+00j\n",
      "  -0.01886864+0.00000000e+00j ... -0.00321242+0.00000000e+00j\n",
      "   0.01329089-1.16293602e-02j  0.01329089+1.16293602e-02j]\n",
      " [ 0.02113578+0.00000000e+00j -0.01416856+0.00000000e+00j\n",
      "   0.00125943+0.00000000e+00j ...  0.00888186+0.00000000e+00j\n",
      "  -0.00197498+5.46930687e-03j -0.00197498-5.46930687e-03j]]\n"
     ]
    }
   ],
   "source": [
    "A = np.cov(np.array(df))\n",
    "w, v = linalg.eig(A)\n",
    "print('Eigenvalues : \\n' , w)\n",
    "print('\\n Eigenvectors : \\n' , v)"
   ]
  },
  {
   "cell_type": "markdown",
   "metadata": {},
   "source": [
    "### Problem 3 :\n",
    "The top 20 Eigenvalues(w) shows that the eigenvalue is complex and so it is clear that there is no clear point where we could cut of the dimension. "
   ]
  },
  {
   "cell_type": "code",
   "execution_count": 9,
   "metadata": {},
   "outputs": [
    {
     "name": "stdout",
     "output_type": "stream",
     "text": [
      "[ 3.93709178e-09+9.40365683e-10j  3.93709178e-09-9.40365683e-10j\n",
      " -4.87524929e-09+0.00000000e+00j  4.01915196e-09+0.00000000e+00j\n",
      " -3.80200047e-09+1.64504350e-09j -3.80200047e-09-1.64504350e-09j\n",
      " -2.86114765e-09+2.62173171e-09j -2.86114765e-09-2.62173171e-09j\n",
      " -7.69451009e-10+2.13782002e-09j -7.69451009e-10-2.13782002e-09j\n",
      "  8.69662409e-10+2.24507330e-09j  8.69662409e-10-2.24507330e-09j\n",
      " -2.77924086e-09+0.00000000e+00j  2.22038186e-11+1.09247393e-09j\n",
      "  2.22038186e-11-1.09247393e-09j  1.95285050e-09+0.00000000e+00j\n",
      " -9.43153709e-12+0.00000000e+00j  1.54757320e-09+0.00000000e+00j\n",
      " -5.83077381e-09+3.60061840e-09j -5.83077381e-09-3.60061840e-09j]\n"
     ]
    }
   ],
   "source": [
    "print(w[w.size-20 : ,])"
   ]
  }
 ],
 "metadata": {
  "kernelspec": {
   "display_name": "Python 3",
   "language": "python",
   "name": "python3"
  },
  "language_info": {
   "codemirror_mode": {
    "name": "ipython",
    "version": 3
   },
   "file_extension": ".py",
   "mimetype": "text/x-python",
   "name": "python",
   "nbconvert_exporter": "python",
   "pygments_lexer": "ipython3",
   "version": "3.6.8"
  }
 },
 "nbformat": 4,
 "nbformat_minor": 2
}
